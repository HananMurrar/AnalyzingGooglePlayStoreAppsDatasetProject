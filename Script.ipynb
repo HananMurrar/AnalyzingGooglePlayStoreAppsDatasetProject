{
 "cells": [
  {
   "cell_type": "markdown",
   "id": "ee760611",
   "metadata": {},
   "source": [
    "# Google play store dataset analyzing ⚙️"
   ]
  },
  {
   "cell_type": "markdown",
   "id": "800a1ce9",
   "metadata": {},
   "source": [
    "### ✨ Task0: import necessary libraries"
   ]
  },
  {
   "cell_type": "code",
   "execution_count": 79,
   "id": "ad269ff0",
   "metadata": {},
   "outputs": [],
   "source": [
    "import pandas as pd\n",
    "import matplotlib.pyplot as plt"
   ]
  },
  {
   "cell_type": "markdown",
   "id": "09e1e1f2",
   "metadata": {},
   "source": [
    "### ✨ Task1: loading and initial exploration "
   ]
  },
  {
   "cell_type": "code",
   "execution_count": 61,
   "id": "67b35255",
   "metadata": {},
   "outputs": [
    {
     "name": "stdout",
     "output_type": "stream",
     "text": [
      "Load dataset done\n"
     ]
    }
   ],
   "source": [
    "# step1: load the dataset\n",
    "\n",
    "google_play_store_df = pd.read_csv(\"GooglePlayStoreData.csv\")\n",
    "print(\"Load dataset done\")"
   ]
  },
  {
   "cell_type": "code",
   "execution_count": null,
   "id": "d11a7b49",
   "metadata": {},
   "outputs": [
    {
     "name": "stdout",
     "output_type": "stream",
     "text": [
      "The first 6 rows:\n"
     ]
    },
    {
     "data": {
      "text/html": [
       "<div>\n",
       "<style scoped>\n",
       "    .dataframe tbody tr th:only-of-type {\n",
       "        vertical-align: middle;\n",
       "    }\n",
       "\n",
       "    .dataframe tbody tr th {\n",
       "        vertical-align: top;\n",
       "    }\n",
       "\n",
       "    .dataframe thead th {\n",
       "        text-align: right;\n",
       "    }\n",
       "</style>\n",
       "<table border=\"1\" class=\"dataframe\">\n",
       "  <thead>\n",
       "    <tr style=\"text-align: right;\">\n",
       "      <th></th>\n",
       "      <th>App</th>\n",
       "      <th>Category</th>\n",
       "      <th>Rating</th>\n",
       "      <th>Reviews</th>\n",
       "      <th>Size</th>\n",
       "      <th>Installs</th>\n",
       "      <th>Type</th>\n",
       "      <th>Price</th>\n",
       "      <th>Content Rating</th>\n",
       "      <th>Genres</th>\n",
       "      <th>Last Updated</th>\n",
       "      <th>Current Ver</th>\n",
       "      <th>Android Ver</th>\n",
       "    </tr>\n",
       "  </thead>\n",
       "  <tbody>\n",
       "    <tr>\n",
       "      <th>0</th>\n",
       "      <td>Photo Editor &amp; Candy Camera &amp; Grid &amp; ScrapBook</td>\n",
       "      <td>ART_AND_DESIGN</td>\n",
       "      <td>4.1</td>\n",
       "      <td>159.0</td>\n",
       "      <td>19M</td>\n",
       "      <td>10000.0</td>\n",
       "      <td>Free</td>\n",
       "      <td>0</td>\n",
       "      <td>Everyone</td>\n",
       "      <td>Art &amp; Design</td>\n",
       "      <td>January 7, 2018</td>\n",
       "      <td>1.0.0</td>\n",
       "      <td>4.0.3 and up</td>\n",
       "    </tr>\n",
       "    <tr>\n",
       "      <th>1</th>\n",
       "      <td>Coloring book moana</td>\n",
       "      <td>ART_AND_DESIGN</td>\n",
       "      <td>3.9</td>\n",
       "      <td>967.0</td>\n",
       "      <td>14M</td>\n",
       "      <td>500000.0</td>\n",
       "      <td>Free</td>\n",
       "      <td>0</td>\n",
       "      <td>Everyone</td>\n",
       "      <td>Art &amp; Design;Pretend Play</td>\n",
       "      <td>January 15, 2018</td>\n",
       "      <td>2.0.0</td>\n",
       "      <td>4.0.3 and up</td>\n",
       "    </tr>\n",
       "    <tr>\n",
       "      <th>2</th>\n",
       "      <td>U Launcher Lite – FREE Live Cool Themes, Hide ...</td>\n",
       "      <td>ART_AND_DESIGN</td>\n",
       "      <td>4.7</td>\n",
       "      <td>87510.0</td>\n",
       "      <td>8.7M</td>\n",
       "      <td>5000000.0</td>\n",
       "      <td>Free</td>\n",
       "      <td>0</td>\n",
       "      <td>Everyone</td>\n",
       "      <td>Art &amp; Design</td>\n",
       "      <td>August 1, 2018</td>\n",
       "      <td>1.2.4</td>\n",
       "      <td>4.0.3 and up</td>\n",
       "    </tr>\n",
       "    <tr>\n",
       "      <th>3</th>\n",
       "      <td>Sketch - Draw &amp; Paint</td>\n",
       "      <td>ART_AND_DESIGN</td>\n",
       "      <td>4.5</td>\n",
       "      <td>215644.0</td>\n",
       "      <td>25M</td>\n",
       "      <td>50000000.0</td>\n",
       "      <td>Free</td>\n",
       "      <td>0</td>\n",
       "      <td>Teen</td>\n",
       "      <td>Art &amp; Design</td>\n",
       "      <td>June 8, 2018</td>\n",
       "      <td>Varies with device</td>\n",
       "      <td>4.2 and up</td>\n",
       "    </tr>\n",
       "    <tr>\n",
       "      <th>4</th>\n",
       "      <td>Pixel Draw - Number Art Coloring Book</td>\n",
       "      <td>ART_AND_DESIGN</td>\n",
       "      <td>4.3</td>\n",
       "      <td>967.0</td>\n",
       "      <td>2.8M</td>\n",
       "      <td>100000.0</td>\n",
       "      <td>Free</td>\n",
       "      <td>0</td>\n",
       "      <td>Everyone</td>\n",
       "      <td>Art &amp; Design;Creativity</td>\n",
       "      <td>June 20, 2018</td>\n",
       "      <td>1.1</td>\n",
       "      <td>4.4 and up</td>\n",
       "    </tr>\n",
       "    <tr>\n",
       "      <th>5</th>\n",
       "      <td>Paper flowers instructions</td>\n",
       "      <td>ART_AND_DESIGN</td>\n",
       "      <td>4.4</td>\n",
       "      <td>167.0</td>\n",
       "      <td>5.6M</td>\n",
       "      <td>50000.0</td>\n",
       "      <td>Free</td>\n",
       "      <td>0</td>\n",
       "      <td>Everyone</td>\n",
       "      <td>Art &amp; Design</td>\n",
       "      <td>March 26, 2017</td>\n",
       "      <td>1.0</td>\n",
       "      <td>2.3 and up</td>\n",
       "    </tr>\n",
       "  </tbody>\n",
       "</table>\n",
       "</div>"
      ],
      "text/plain": [
       "                                                 App        Category  Rating  \\\n",
       "0     Photo Editor & Candy Camera & Grid & ScrapBook  ART_AND_DESIGN     4.1   \n",
       "1                                Coloring book moana  ART_AND_DESIGN     3.9   \n",
       "2  U Launcher Lite – FREE Live Cool Themes, Hide ...  ART_AND_DESIGN     4.7   \n",
       "3                              Sketch - Draw & Paint  ART_AND_DESIGN     4.5   \n",
       "4              Pixel Draw - Number Art Coloring Book  ART_AND_DESIGN     4.3   \n",
       "5                         Paper flowers instructions  ART_AND_DESIGN     4.4   \n",
       "\n",
       "    Reviews  Size    Installs  Type Price Content Rating  \\\n",
       "0     159.0   19M     10000.0  Free     0       Everyone   \n",
       "1     967.0   14M    500000.0  Free     0       Everyone   \n",
       "2   87510.0  8.7M   5000000.0  Free     0       Everyone   \n",
       "3  215644.0   25M  50000000.0  Free     0           Teen   \n",
       "4     967.0  2.8M    100000.0  Free     0       Everyone   \n",
       "5     167.0  5.6M     50000.0  Free     0       Everyone   \n",
       "\n",
       "                      Genres      Last Updated         Current Ver  \\\n",
       "0               Art & Design   January 7, 2018               1.0.0   \n",
       "1  Art & Design;Pretend Play  January 15, 2018               2.0.0   \n",
       "2               Art & Design    August 1, 2018               1.2.4   \n",
       "3               Art & Design      June 8, 2018  Varies with device   \n",
       "4    Art & Design;Creativity     June 20, 2018                 1.1   \n",
       "5               Art & Design    March 26, 2017                 1.0   \n",
       "\n",
       "    Android Ver  \n",
       "0  4.0.3 and up  \n",
       "1  4.0.3 and up  \n",
       "2  4.0.3 and up  \n",
       "3    4.2 and up  \n",
       "4    4.4 and up  \n",
       "5    2.3 and up  "
      ]
     },
     "metadata": {},
     "output_type": "display_data"
    },
    {
     "name": "stdout",
     "output_type": "stream",
     "text": [
      "\n",
      "The last 6 rows:\n"
     ]
    },
    {
     "data": {
      "text/html": [
       "<div>\n",
       "<style scoped>\n",
       "    .dataframe tbody tr th:only-of-type {\n",
       "        vertical-align: middle;\n",
       "    }\n",
       "\n",
       "    .dataframe tbody tr th {\n",
       "        vertical-align: top;\n",
       "    }\n",
       "\n",
       "    .dataframe thead th {\n",
       "        text-align: right;\n",
       "    }\n",
       "</style>\n",
       "<table border=\"1\" class=\"dataframe\">\n",
       "  <thead>\n",
       "    <tr style=\"text-align: right;\">\n",
       "      <th></th>\n",
       "      <th>App</th>\n",
       "      <th>Category</th>\n",
       "      <th>Rating</th>\n",
       "      <th>Reviews</th>\n",
       "      <th>Size</th>\n",
       "      <th>Installs</th>\n",
       "      <th>Type</th>\n",
       "      <th>Price</th>\n",
       "      <th>Content Rating</th>\n",
       "      <th>Genres</th>\n",
       "      <th>Last Updated</th>\n",
       "      <th>Current Ver</th>\n",
       "      <th>Android Ver</th>\n",
       "    </tr>\n",
       "  </thead>\n",
       "  <tbody>\n",
       "    <tr>\n",
       "      <th>10835</th>\n",
       "      <td>FR Forms</td>\n",
       "      <td>BUSINESS</td>\n",
       "      <td>NaN</td>\n",
       "      <td>0.0</td>\n",
       "      <td>9.6M</td>\n",
       "      <td>10.0</td>\n",
       "      <td>Free</td>\n",
       "      <td>0</td>\n",
       "      <td>Everyone</td>\n",
       "      <td>Business</td>\n",
       "      <td>September 29, 2016</td>\n",
       "      <td>1.1.5</td>\n",
       "      <td>4.0 and up</td>\n",
       "    </tr>\n",
       "    <tr>\n",
       "      <th>10836</th>\n",
       "      <td>Sya9a Maroc - FR</td>\n",
       "      <td>FAMILY</td>\n",
       "      <td>4.5</td>\n",
       "      <td>38.0</td>\n",
       "      <td>53M</td>\n",
       "      <td>5000.0</td>\n",
       "      <td>Free</td>\n",
       "      <td>0</td>\n",
       "      <td>Everyone</td>\n",
       "      <td>Education</td>\n",
       "      <td>July 25, 2017</td>\n",
       "      <td>1.48</td>\n",
       "      <td>4.1 and up</td>\n",
       "    </tr>\n",
       "    <tr>\n",
       "      <th>10837</th>\n",
       "      <td>Fr. Mike Schmitz Audio Teachings</td>\n",
       "      <td>FAMILY</td>\n",
       "      <td>5.0</td>\n",
       "      <td>4.0</td>\n",
       "      <td>3.6M</td>\n",
       "      <td>100.0</td>\n",
       "      <td>Free</td>\n",
       "      <td>0</td>\n",
       "      <td>Everyone</td>\n",
       "      <td>Education</td>\n",
       "      <td>July 6, 2018</td>\n",
       "      <td>1.0</td>\n",
       "      <td>4.1 and up</td>\n",
       "    </tr>\n",
       "    <tr>\n",
       "      <th>10838</th>\n",
       "      <td>Parkinson Exercices FR</td>\n",
       "      <td>MEDICAL</td>\n",
       "      <td>NaN</td>\n",
       "      <td>3.0</td>\n",
       "      <td>9.5M</td>\n",
       "      <td>1000.0</td>\n",
       "      <td>Free</td>\n",
       "      <td>0</td>\n",
       "      <td>Everyone</td>\n",
       "      <td>Medical</td>\n",
       "      <td>January 20, 2017</td>\n",
       "      <td>1.0</td>\n",
       "      <td>2.2 and up</td>\n",
       "    </tr>\n",
       "    <tr>\n",
       "      <th>10839</th>\n",
       "      <td>The SCP Foundation DB fr nn5n</td>\n",
       "      <td>BOOKS_AND_REFERENCE</td>\n",
       "      <td>4.5</td>\n",
       "      <td>114.0</td>\n",
       "      <td>Varies with device</td>\n",
       "      <td>1000.0</td>\n",
       "      <td>Free</td>\n",
       "      <td>0</td>\n",
       "      <td>Mature 17+</td>\n",
       "      <td>Books &amp; Reference</td>\n",
       "      <td>January 19, 2015</td>\n",
       "      <td>Varies with device</td>\n",
       "      <td>Varies with device</td>\n",
       "    </tr>\n",
       "    <tr>\n",
       "      <th>10840</th>\n",
       "      <td>iHoroscope - 2018 Daily Horoscope &amp; Astrology</td>\n",
       "      <td>LIFESTYLE</td>\n",
       "      <td>4.5</td>\n",
       "      <td>398307.0</td>\n",
       "      <td>19M</td>\n",
       "      <td>10000000.0</td>\n",
       "      <td>Free</td>\n",
       "      <td>0</td>\n",
       "      <td>Everyone</td>\n",
       "      <td>Lifestyle</td>\n",
       "      <td>July 25, 2018</td>\n",
       "      <td>Varies with device</td>\n",
       "      <td>Varies with device</td>\n",
       "    </tr>\n",
       "  </tbody>\n",
       "</table>\n",
       "</div>"
      ],
      "text/plain": [
       "                                                 App             Category  \\\n",
       "10835                                       FR Forms             BUSINESS   \n",
       "10836                               Sya9a Maroc - FR               FAMILY   \n",
       "10837               Fr. Mike Schmitz Audio Teachings               FAMILY   \n",
       "10838                         Parkinson Exercices FR              MEDICAL   \n",
       "10839                  The SCP Foundation DB fr nn5n  BOOKS_AND_REFERENCE   \n",
       "10840  iHoroscope - 2018 Daily Horoscope & Astrology            LIFESTYLE   \n",
       "\n",
       "       Rating   Reviews                Size    Installs  Type Price  \\\n",
       "10835     NaN       0.0                9.6M        10.0  Free     0   \n",
       "10836     4.5      38.0                 53M      5000.0  Free     0   \n",
       "10837     5.0       4.0                3.6M       100.0  Free     0   \n",
       "10838     NaN       3.0                9.5M      1000.0  Free     0   \n",
       "10839     4.5     114.0  Varies with device      1000.0  Free     0   \n",
       "10840     4.5  398307.0                 19M  10000000.0  Free     0   \n",
       "\n",
       "      Content Rating             Genres        Last Updated  \\\n",
       "10835       Everyone           Business  September 29, 2016   \n",
       "10836       Everyone          Education       July 25, 2017   \n",
       "10837       Everyone          Education        July 6, 2018   \n",
       "10838       Everyone            Medical    January 20, 2017   \n",
       "10839     Mature 17+  Books & Reference    January 19, 2015   \n",
       "10840       Everyone          Lifestyle       July 25, 2018   \n",
       "\n",
       "              Current Ver         Android Ver  \n",
       "10835               1.1.5          4.0 and up  \n",
       "10836                1.48          4.1 and up  \n",
       "10837                 1.0          4.1 and up  \n",
       "10838                 1.0          2.2 and up  \n",
       "10839  Varies with device  Varies with device  \n",
       "10840  Varies with device  Varies with device  "
      ]
     },
     "metadata": {},
     "output_type": "display_data"
    }
   ],
   "source": [
    "# step2: display the first 6 rows and the last 6 rows\n",
    "\n",
    "print(\"The first 6 rows:\")\n",
    "display(google_play_store_df.head(6))\n",
    "\n",
    "print(\"\\nThe last 6 rows:\")\n",
    "display(google_play_store_df.tail(6))"
   ]
  },
  {
   "cell_type": "code",
   "execution_count": null,
   "id": "073795b8",
   "metadata": {},
   "outputs": [
    {
     "name": "stdout",
     "output_type": "stream",
     "text": [
      "The shape of dataset: (10841, 13)\n"
     ]
    }
   ],
   "source": [
    "# step3: show the shape of the dataset\n",
    "\n",
    "print(\"The shape of dataset:\", google_play_store_df.shape)"
   ]
  },
  {
   "cell_type": "markdown",
   "id": "c76b2d1f",
   "metadata": {},
   "source": [
    "#### 📋 Explain the output:\n",
    "- The dataset contains 10841 rows and 13 columns so the dataset contains 10841 records each with 13 features"
   ]
  },
  {
   "cell_type": "code",
   "execution_count": null,
   "id": "a96590a4",
   "metadata": {},
   "outputs": [
    {
     "name": "stdout",
     "output_type": "stream",
     "text": [
      "The descriptive statistics for numerical columns:\n"
     ]
    },
    {
     "data": {
      "text/html": [
       "<div>\n",
       "<style scoped>\n",
       "    .dataframe tbody tr th:only-of-type {\n",
       "        vertical-align: middle;\n",
       "    }\n",
       "\n",
       "    .dataframe tbody tr th {\n",
       "        vertical-align: top;\n",
       "    }\n",
       "\n",
       "    .dataframe thead th {\n",
       "        text-align: right;\n",
       "    }\n",
       "</style>\n",
       "<table border=\"1\" class=\"dataframe\">\n",
       "  <thead>\n",
       "    <tr style=\"text-align: right;\">\n",
       "      <th></th>\n",
       "      <th>Rating</th>\n",
       "      <th>Reviews</th>\n",
       "      <th>Installs</th>\n",
       "    </tr>\n",
       "  </thead>\n",
       "  <tbody>\n",
       "    <tr>\n",
       "      <th>count</th>\n",
       "      <td>9367.000000</td>\n",
       "      <td>1.084000e+04</td>\n",
       "      <td>1.084000e+04</td>\n",
       "    </tr>\n",
       "    <tr>\n",
       "      <th>mean</th>\n",
       "      <td>4.193338</td>\n",
       "      <td>4.441529e+05</td>\n",
       "      <td>1.546434e+07</td>\n",
       "    </tr>\n",
       "    <tr>\n",
       "      <th>std</th>\n",
       "      <td>0.537431</td>\n",
       "      <td>2.927761e+06</td>\n",
       "      <td>8.502936e+07</td>\n",
       "    </tr>\n",
       "    <tr>\n",
       "      <th>min</th>\n",
       "      <td>1.000000</td>\n",
       "      <td>0.000000e+00</td>\n",
       "      <td>0.000000e+00</td>\n",
       "    </tr>\n",
       "    <tr>\n",
       "      <th>25%</th>\n",
       "      <td>4.000000</td>\n",
       "      <td>3.800000e+01</td>\n",
       "      <td>1.000000e+03</td>\n",
       "    </tr>\n",
       "    <tr>\n",
       "      <th>50%</th>\n",
       "      <td>4.300000</td>\n",
       "      <td>2.094000e+03</td>\n",
       "      <td>1.000000e+05</td>\n",
       "    </tr>\n",
       "    <tr>\n",
       "      <th>75%</th>\n",
       "      <td>4.500000</td>\n",
       "      <td>5.477550e+04</td>\n",
       "      <td>5.000000e+06</td>\n",
       "    </tr>\n",
       "    <tr>\n",
       "      <th>max</th>\n",
       "      <td>19.000000</td>\n",
       "      <td>7.815831e+07</td>\n",
       "      <td>1.000000e+09</td>\n",
       "    </tr>\n",
       "  </tbody>\n",
       "</table>\n",
       "</div>"
      ],
      "text/plain": [
       "            Rating       Reviews      Installs\n",
       "count  9367.000000  1.084000e+04  1.084000e+04\n",
       "mean      4.193338  4.441529e+05  1.546434e+07\n",
       "std       0.537431  2.927761e+06  8.502936e+07\n",
       "min       1.000000  0.000000e+00  0.000000e+00\n",
       "25%       4.000000  3.800000e+01  1.000000e+03\n",
       "50%       4.300000  2.094000e+03  1.000000e+05\n",
       "75%       4.500000  5.477550e+04  5.000000e+06\n",
       "max      19.000000  7.815831e+07  1.000000e+09"
      ]
     },
     "metadata": {},
     "output_type": "display_data"
    }
   ],
   "source": [
    "# step4: generate descriptive statistics for numerical columns\n",
    "\n",
    "# convert Rating column and Reviews column to numeric and handle non numeric entries\n",
    "google_play_store_df[\"Rating\"] = pd.to_numeric(google_play_store_df[\"Rating\"], errors=\"coerce\")\n",
    "google_play_store_df[\"Reviews\"] = pd.to_numeric(google_play_store_df[\"Reviews\"], errors=\"coerce\")\n",
    "\n",
    "# ensure Installs column is string then remove +, from Installs column then convert it to numeric\n",
    "google_play_store_df[\"Installs\"] = google_play_store_df[\"Installs\"].astype(str)\n",
    "google_play_store_df[\"Installs\"] = google_play_store_df[\"Installs\"].str.replace(\"[+,]\", \"\", regex=True)\n",
    "google_play_store_df[\"Installs\"] = pd.to_numeric(google_play_store_df[\"Installs\"], errors=\"coerce\")\n",
    "\n",
    "# descriptive statistics\n",
    "print(\"The descriptive statistics for numerical columns:\")\n",
    "display(google_play_store_df[[\"Rating\", \"Reviews\", \"Installs\"]].describe())"
   ]
  },
  {
   "cell_type": "markdown",
   "id": "277506f1",
   "metadata": {},
   "source": [
    "#### 📋 Explain the output:\n",
    "- Rating: most apps have ratings around 4.2 and one app has a ratings of 19 which is outlier so the ratings should be between 1 and 5\n",
    "- Rating: the std 0.5 small so this means that most ratings are close to the average 4.2\n",
    "- Reviews: half of the apps have fewer than 2094 reviews but some very popular apps have millions\n",
    "- Reviews: the std 2927761 large so there is a large variation in the number of reviews\n",
    "- Installs: most apps have less than 100000 installs but a few reach up to 1 billion installs\n",
    "- Installs: the std 85029360 large so this means there is big difference in number of reviews between apps"
   ]
  },
  {
   "cell_type": "markdown",
   "id": "db8e9bfc",
   "metadata": {},
   "source": [
    "### ✨ Task2: data cleaning"
   ]
  },
  {
   "cell_type": "code",
   "execution_count": null,
   "id": "acbf5565",
   "metadata": {},
   "outputs": [
    {
     "name": "stdout",
     "output_type": "stream",
     "text": [
      "The data types of all columns:\n",
      "App                object\n",
      "Category           object\n",
      "Rating            float64\n",
      "Reviews           float64\n",
      "Size               object\n",
      "Installs          float64\n",
      "Type               object\n",
      "Price              object\n",
      "Content Rating     object\n",
      "Genres             object\n",
      "Last Updated       object\n",
      "Current Ver        object\n",
      "Android Ver        object\n",
      "dtype: object\n",
      "\n",
      "The null values in each column:\n",
      "App                  0\n",
      "Category             0\n",
      "Rating            1474\n",
      "Reviews              1\n",
      "Size                 0\n",
      "Installs             1\n",
      "Type                 1\n",
      "Price                0\n",
      "Content Rating       1\n",
      "Genres               0\n",
      "Last Updated         0\n",
      "Current Ver          8\n",
      "Android Ver          3\n",
      "dtype: int64\n"
     ]
    }
   ],
   "source": [
    "# step1: print the data types and check for null values\n",
    "\n",
    "print(\"The data types of all columns:\")\n",
    "print(google_play_store_df.dtypes)\n",
    "\n",
    "print(\"\\nThe null values in each column:\")\n",
    "print(google_play_store_df.isnull().sum())"
   ]
  },
  {
   "cell_type": "markdown",
   "id": "772fd4b2",
   "metadata": {},
   "source": [
    "#### 📋 Explain the output:\n",
    "- The output for null values shows how many missing values are in each column of dataset\n",
    "- Most columns have no missing values\n",
    "- Rating column has the most missing values 1474 which means many apps did not get rated"
   ]
  },
  {
   "cell_type": "code",
   "execution_count": null,
   "id": "55395d56",
   "metadata": {},
   "outputs": [
    {
     "name": "stdout",
     "output_type": "stream",
     "text": [
      "The new shape is: (10840, 13)\n"
     ]
    }
   ],
   "source": [
    "# step2: drop rows where Type column is missing\n",
    "\n",
    "google_play_store_df_cleaned = google_play_store_df.dropna(subset=[\"Type\"])\n",
    "print(f\"The new shape is: {google_play_store_df_cleaned.shape}\")"
   ]
  },
  {
   "cell_type": "markdown",
   "id": "eaf083e9",
   "metadata": {},
   "source": [
    "#### 📋 Explain the output:\n",
    "- The dataset has 10840 rows and 13 columns so only rows with valid Type are kept"
   ]
  },
  {
   "cell_type": "code",
   "execution_count": null,
   "id": "d6e63669",
   "metadata": {},
   "outputs": [
    {
     "name": "stdout",
     "output_type": "stream",
     "text": [
      "The missing values in Rating column: 1473\n",
      "The missing values in Rating column after filling: 0\n"
     ]
    }
   ],
   "source": [
    "# step3: fill missing values in Rating column by median of same app category\n",
    "\n",
    "# check the number of missing values in Rating column\n",
    "print(\"The missing values in Rating column:\", google_play_store_df_cleaned[\"Rating\"].isnull().sum())\n",
    "\n",
    "# fill missing Rating values with median\n",
    "google_play_store_df_cleaned[\"Rating\"] = google_play_store_df_cleaned.groupby(\"Category\")[\"Rating\"].transform(lambda x: x.fillna(x.median()))\n",
    "\n",
    "# verify that there no missing Rating values\n",
    "print(\"The missing values in Rating column after filling:\", google_play_store_df_cleaned[\"Rating\"].isnull().sum())"
   ]
  },
  {
   "cell_type": "markdown",
   "id": "17070091",
   "metadata": {},
   "source": [
    "#### 📋 Explain the output:\n",
    "- Rating column have 1473 missing ratings so after replacing them with the median rating for each app there are no missing ratings left\n",
    "- Using the median to fill missing ratings because it is not affected by very high or very low ratings so we get a more typical rating for each app in dataset"
   ]
  },
  {
   "cell_type": "code",
   "execution_count": null,
   "id": "1e26bdfc",
   "metadata": {},
   "outputs": [
    {
     "name": "stdout",
     "output_type": "stream",
     "text": [
      "The data type of Installs column after conversion: float64\n"
     ]
    }
   ],
   "source": [
    "# step4: clean and convert the Installs column\n",
    "\n",
    "# ensure Installs column is string then remove +, from Installs column then convert it to numeric\n",
    "google_play_store_df_cleaned[\"Installs\"] = google_play_store_df_cleaned[\"Installs\"].astype(str)\n",
    "google_play_store_df_cleaned[\"Installs\"] = google_play_store_df_cleaned[\"Installs\"].str.replace(\"[+,]\", \"\", regex=True)\n",
    "google_play_store_df_cleaned[\"Installs\"] = pd.to_numeric(google_play_store_df_cleaned[\"Installs\"], errors=\"coerce\")\n",
    "\n",
    "# verify\n",
    "print(f\"The data type of Installs column after conversion: {google_play_store_df_cleaned['Installs'].dtype}\")"
   ]
  },
  {
   "cell_type": "code",
   "execution_count": null,
   "id": "18fe1ec6",
   "metadata": {},
   "outputs": [
    {
     "name": "stdout",
     "output_type": "stream",
     "text": [
      "The data type of Price column after conversion: float64\n"
     ]
    }
   ],
   "source": [
    "# step5: clean and convert the Price column\n",
    "\n",
    "# remove $ from Price column then convert it to numeric\n",
    "google_play_store_df_cleaned[\"Price\"] = google_play_store_df_cleaned[\"Price\"].str.replace(\"$\", \"\", regex=False)\n",
    "google_play_store_df_cleaned[\"Price\"] = pd.to_numeric(google_play_store_df_cleaned[\"Price\"], errors=\"coerce\")\n",
    "\n",
    "# verify\n",
    "print(f\"The data type of Price column after conversion: {google_play_store_df_cleaned['Price'].dtype}\")"
   ]
  },
  {
   "cell_type": "markdown",
   "id": "20088162",
   "metadata": {},
   "source": [
    "### ✨ Task3: data filtering"
   ]
  },
  {
   "cell_type": "code",
   "execution_count": null,
   "id": "64fdb355",
   "metadata": {},
   "outputs": [
    {
     "name": "stdout",
     "output_type": "stream",
     "text": [
      "The first 5 rows of free apps:\n",
      "                                                 App        Category  Rating  \\\n",
      "0     Photo Editor & Candy Camera & Grid & ScrapBook  ART_AND_DESIGN     4.1   \n",
      "1                                Coloring book moana  ART_AND_DESIGN     3.9   \n",
      "2  U Launcher Lite – FREE Live Cool Themes, Hide ...  ART_AND_DESIGN     4.7   \n",
      "3                              Sketch - Draw & Paint  ART_AND_DESIGN     4.5   \n",
      "4              Pixel Draw - Number Art Coloring Book  ART_AND_DESIGN     4.3   \n",
      "\n",
      "    Reviews  Size    Installs  Type  Price Content Rating  \\\n",
      "0     159.0   19M     10000.0  Free    0.0       Everyone   \n",
      "1     967.0   14M    500000.0  Free    0.0       Everyone   \n",
      "2   87510.0  8.7M   5000000.0  Free    0.0       Everyone   \n",
      "3  215644.0   25M  50000000.0  Free    0.0           Teen   \n",
      "4     967.0  2.8M    100000.0  Free    0.0       Everyone   \n",
      "\n",
      "                      Genres      Last Updated         Current Ver  \\\n",
      "0               Art & Design   January 7, 2018               1.0.0   \n",
      "1  Art & Design;Pretend Play  January 15, 2018               2.0.0   \n",
      "2               Art & Design    August 1, 2018               1.2.4   \n",
      "3               Art & Design      June 8, 2018  Varies with device   \n",
      "4    Art & Design;Creativity     June 20, 2018                 1.1   \n",
      "\n",
      "    Android Ver  \n",
      "0  4.0.3 and up  \n",
      "1  4.0.3 and up  \n",
      "2  4.0.3 and up  \n",
      "3    4.2 and up  \n",
      "4    4.4 and up  \n"
     ]
    }
   ],
   "source": [
    "# step1: create a DataFrame containing only free apps\n",
    "\n",
    "# filter for free apps from Type column \n",
    "free_apps = google_play_store_df_cleaned[google_play_store_df_cleaned[\"Type\"] == \"Free\"]\n",
    "\n",
    "print(f\"The first 5 rows of free apps:\")\n",
    "print(free_apps.head())"
   ]
  },
  {
   "cell_type": "code",
   "execution_count": null,
   "id": "8a92779c",
   "metadata": {},
   "outputs": [
    {
     "name": "stdout",
     "output_type": "stream",
     "text": [
      "The filtered apps so Rating > 4.5 and Installs > 1000000:\n",
      "                                                   App             Category  \\\n",
      "2    U Launcher Lite – FREE Live Cool Themes, Hide ...       ART_AND_DESIGN   \n",
      "19                                        ibis Paint X       ART_AND_DESIGN   \n",
      "45   Canva: Poster, banner, card maker & graphic de...       ART_AND_DESIGN   \n",
      "70   Fines of the State Traffic Safety Inspectorate...    AUTO_AND_VEHICLES   \n",
      "139                               Wattpad 📖 Free Books  BOOKS_AND_REFERENCE   \n",
      "\n",
      "     Rating    Reviews                Size     Installs  Type  Price  \\\n",
      "2       4.7    87510.0                8.7M    5000000.0  Free    0.0   \n",
      "19      4.6   224399.0                 31M   10000000.0  Free    0.0   \n",
      "45      4.7   174531.0                 24M   10000000.0  Free    0.0   \n",
      "70      4.8   116986.0                 35M    5000000.0  Free    0.0   \n",
      "139     4.6  2914724.0  Varies with device  100000000.0  Free    0.0   \n",
      "\n",
      "    Content Rating             Genres    Last Updated         Current Ver  \\\n",
      "2         Everyone       Art & Design  August 1, 2018               1.2.4   \n",
      "19        Everyone       Art & Design   July 30, 2018               5.5.4   \n",
      "45        Everyone       Art & Design   July 31, 2018               1.6.1   \n",
      "70        Everyone    Auto & Vehicles  August 2, 2018               1.9.7   \n",
      "139           Teen  Books & Reference  August 1, 2018  Varies with device   \n",
      "\n",
      "            Android Ver  \n",
      "2          4.0.3 and up  \n",
      "19           4.1 and up  \n",
      "45           4.1 and up  \n",
      "70         4.0.3 and up  \n",
      "139  Varies with device  \n"
     ]
    }
   ],
   "source": [
    "# step2: filter apps\n",
    "\n",
    "# filter with Rating greater than 4.5 and more than 1000000 Installs for apps \n",
    "high_rating_high_installs = google_play_store_df_cleaned[(google_play_store_df_cleaned[\"Rating\"] > 4.5) & (google_play_store_df_cleaned[\"Installs\"] > 1000000)]\n",
    "\n",
    "print(f\"The filtered apps so Rating > 4.5 and Installs > 1000000:\")\n",
    "print(high_rating_high_installs.head())"
   ]
  },
  {
   "cell_type": "code",
   "execution_count": null,
   "id": "040cf7e9",
   "metadata": {},
   "outputs": [
    {
     "name": "stdout",
     "output_type": "stream",
     "text": [
      "No apps found in the Education apps\n"
     ]
    }
   ],
   "source": [
    "# step3: list top 3 most installed App in Category column is Education value \n",
    "\n",
    "# filter for apps\n",
    "education_apps = google_play_store_df_cleaned[google_play_store_df_cleaned[\"Category\"] == \"Education\"]\n",
    "\n",
    "# check if there are any records for the Education apps\n",
    "if not education_apps.empty:\n",
    "    # sort by Installs column in descending order and get the top 3\n",
    "    top_three_education_apps = education_apps.sort_values(by=\"Installs\", ascending=False).head(3)\n",
    "\n",
    "    print(f\"The top 3 App with Category is Education its installed:\")\n",
    "    print(top_three_education_apps[[\"App\", \"Installs\"]])\n",
    "else:\n",
    "    print(\"No apps found in the Education apps\")"
   ]
  },
  {
   "cell_type": "markdown",
   "id": "0871e71c",
   "metadata": {},
   "source": [
    "#### 📋 Explain the output:\n",
    "- This means that no App in dataset matched Category is Education so note the case sensitive"
   ]
  },
  {
   "cell_type": "markdown",
   "id": "765c682c",
   "metadata": {},
   "source": [
    "### ✨ Task4: grouping and aggregation "
   ]
  },
  {
   "cell_type": "code",
   "execution_count": 67,
   "id": "0b31bea7",
   "metadata": {},
   "outputs": [
    {
     "name": "stdout",
     "output_type": "stream",
     "text": [
      "The average Rating by Category is:\n",
      "Category\n",
      "DATING                  3.992308\n",
      "MAPS_AND_NAVIGATION     4.065693\n",
      "TOOLS                   4.067141\n",
      "VIDEO_PLAYERS           4.075429\n",
      "LIFESTYLE               4.113613\n",
      "ENTERTAINMENT           4.126174\n",
      "TRAVEL_AND_LOCAL        4.132946\n",
      "NEWS_AND_MAGAZINES      4.144170\n",
      "FINANCE                 4.151639\n",
      "COMICS                  4.163333\n",
      "COMMUNICATION           4.180103\n",
      "BUSINESS                4.182391\n",
      "LIBRARIES_AND_DEMO      4.183529\n",
      "FOOD_AND_DRINK          4.185827\n",
      "PHOTOGRAPHY             4.197910\n",
      "FAMILY                  4.204515\n",
      "AUTO_AND_VEHICLES       4.205882\n",
      "HOUSE_AND_HOME          4.211364\n",
      "MEDICAL                 4.216199\n",
      "PRODUCTIVITY            4.226651\n",
      "SPORTS                  4.236458\n",
      "WEATHER                 4.248780\n",
      "SOCIAL                  4.261017\n",
      "SHOPPING                4.263077\n",
      "BEAUTY                  4.283019\n",
      "GAME                    4.290997\n",
      "HEALTH_AND_FITNESS      4.305865\n",
      "PARENTING               4.316667\n",
      "PERSONALIZATION         4.348724\n",
      "ART_AND_DESIGN          4.360000\n",
      "BOOKS_AND_REFERENCE     4.381385\n",
      "EDUCATION               4.389103\n",
      "EVENTS                  4.454688\n",
      "1.9                    19.000000\n",
      "Name: Rating, dtype: float64\n"
     ]
    }
   ],
   "source": [
    "# step1: group by Category and calculate average Rating from dataset\n",
    "\n",
    "# group and calculate the mean\n",
    "average_rating_by_category = google_play_store_df_cleaned.groupby('Category')['Rating'].mean().sort_values(ascending=True)\n",
    "\n",
    "print(\"The average Rating by Category is:\")\n",
    "print(average_rating_by_category)"
   ]
  },
  {
   "cell_type": "markdown",
   "id": "ecd488c0",
   "metadata": {},
   "source": [
    "#### 📋 Explain the output:\n",
    "- The output shows the average Rating for each app Category in the dataset\n",
    "- This values give us an idea of how satisfied users are with each type of app so Categories with higher average Ratings are generally liked more by users"
   ]
  },
  {
   "cell_type": "code",
   "execution_count": 70,
   "id": "fa2bd7dc",
   "metadata": {},
   "outputs": [
    {
     "name": "stdout",
     "output_type": "stream",
     "text": [
      "Category with the lowest average Rating is: DATING its 3.99\n",
      "Category with the highest average Rating is: 1.9 its 19.00\n"
     ]
    }
   ],
   "source": [
    "# step2: identify Category with lowest and highest average Rating from dataset\n",
    "\n",
    "# the Category with lowest average\n",
    "lowest_average_rating = average_rating_by_category.idxmin()\n",
    "lowest_rating_value = average_rating_by_category.min()\n",
    "\n",
    "# the Category with highest average\n",
    "highest_average_rating = average_rating_by_category.idxmax()\n",
    "highest_rating_value = average_rating_by_category.max()\n",
    "\n",
    "print(f\"Category with the lowest average Rating is: {lowest_average_rating} its {lowest_rating_value:.2f}\")\n",
    "print(f\"Category with the highest average Rating is: {highest_average_rating} its {highest_rating_value:.2f}\")"
   ]
  },
  {
   "cell_type": "code",
   "execution_count": 74,
   "id": "285a9327",
   "metadata": {},
   "outputs": [
    {
     "name": "stdout",
     "output_type": "stream",
     "text": [
      "Installs statistics grouped by Content Rating is:\n",
      "                    median           sum\n",
      "Content Rating                          \n",
      "Adults only 18+   500000.0  2.000000e+06\n",
      "Everyone          100000.0  1.141567e+11\n",
      "Everyone 10+     1000000.0  1.323388e+10\n",
      "Mature 17+        500000.0  5.524491e+09\n",
      "Teen             1000000.0  3.471635e+10\n",
      "Unrated            25250.0  5.050000e+04\n"
     ]
    }
   ],
   "source": [
    "# step3: group by Content Rating and calculate median and sum Installs for each group\n",
    "\n",
    "# group and calculate median and sum\n",
    "installs_statistics_by_content = google_play_store_df_cleaned.groupby('Content Rating')['Installs'].agg(['median', 'sum'])\n",
    "\n",
    "print(\"Installs statistics grouped by Content Rating is:\")\n",
    "print(installs_statistics_by_content)"
   ]
  },
  {
   "cell_type": "markdown",
   "id": "d3565b55",
   "metadata": {},
   "source": [
    "#### 📋 Explain the output:\n",
    "- Median tells us the middle number of Installs for apps in that group\n",
    "- Sum shows the total number of Installs from all apps in that group\n",
    "- Everyone has the high sum also a high median so mean it is the most popular"
   ]
  },
  {
   "cell_type": "markdown",
   "id": "087b240e",
   "metadata": {},
   "source": [
    "### ✨ Task5: new column creation "
   ]
  },
  {
   "cell_type": "code",
   "execution_count": null,
   "id": "c6c66ebf",
   "metadata": {},
   "outputs": [
    {
     "name": "stdout",
     "output_type": "stream",
     "text": [
      "Sample dataset:\n",
      "                                               App  Type  Price  Installs  \\\n",
      "234  TurboScan: scan documents and receipts in PDF  Paid   4.99  100000.0   \n",
      "235                 Tiny Scanner Pro: PDF Doc Scan  Paid   4.99  100000.0   \n",
      "290  TurboScan: scan documents and receipts in PDF  Paid   4.99  100000.0   \n",
      "291                 Tiny Scanner Pro: PDF Doc Scan  Paid   4.99  100000.0   \n",
      "427                             Puffin Browser Pro  Paid   3.99  100000.0   \n",
      "\n",
      "     Revenue Estimate  \n",
      "234          499000.0  \n",
      "235          499000.0  \n",
      "290          499000.0  \n",
      "291          499000.0  \n",
      "427          399000.0  \n"
     ]
    }
   ],
   "source": [
    "# step1: create Revenue Estimate column\n",
    "\n",
    "# create a Revenue Estimate column only for Type paid for App and its Revenue Estimate = Price * Installs formula\n",
    "google_play_store_df_cleaned['Revenue Estimate'] = 0  \n",
    "\n",
    "paid_apps = google_play_store_df_cleaned['Type'] == 'Paid'\n",
    "google_play_store_df_cleaned.loc[paid_apps, 'Revenue Estimate'] = google_play_store_df_cleaned.loc[paid_apps, 'Price'] * google_play_store_df_cleaned.loc[paid_apps, 'Installs']\n",
    "\n",
    "print(\"Sample dataset:\")\n",
    "print(google_play_store_df_cleaned[paid_apps][['App', 'Type', 'Price', 'Installs', 'Revenue Estimate']].head())"
   ]
  },
  {
   "cell_type": "markdown",
   "id": "6534cc02",
   "metadata": {},
   "source": [
    "#### 📋 Explain the output:\n",
    "- The new Revenue Estimate column help us to understand how profitable each paid App is so we can focus our analysis on App\n",
    "that are high revenue"
   ]
  },
  {
   "cell_type": "markdown",
   "id": "4ff2f14c",
   "metadata": {},
   "source": [
    "### ✨ Task6: visualization "
   ]
  },
  {
   "cell_type": "code",
   "execution_count": 93,
   "id": "267921ce",
   "metadata": {},
   "outputs": [
    {
     "data": {
      "image/png": "[encoded data removed]",
      "text/plain": [
       "<Figure size 1000x600 with 1 Axes>"
      ]
     },
     "metadata": {},
     "output_type": "display_data"
    }
   ],
   "source": [
    "# step1: histogram for data\n",
    "\n",
    "# plot histogram of apps Ratings data\n",
    "plt.figure(figsize=(10, 6))\n",
    "plt.hist(google_play_store_df_cleaned['Rating'].dropna(), bins=20, color='orange', edgecolor='black')\n",
    "plt.title('The distribution of apps ratings visualization')\n",
    "plt.xlabel('Rating')\n",
    "plt.ylabel('Number of apps')\n",
    "plt.show()"
   ]
  },
  {
   "cell_type": "markdown",
   "id": "2d569f8b",
   "metadata": {},
   "source": [
    "#### 📋 Explain the output:\n",
    "- Most apps have Ratings between 3 and 5\n",
    "- The tallest bar Ratings is around 4 to 4.5 so most apps are rated highly\n",
    "- There are few apps with Ratings below 3 or above 5 thoes are outliers"
   ]
  },
  {
   "cell_type": "code",
   "execution_count": 94,
   "id": "41b0c209",
   "metadata": {},
   "outputs": [
    {
     "data": {
      "image/png": "[encoded data removed]",
      "text/plain": [
       "<Figure size 1000x600 with 1 Axes>"
      ]
     },
     "metadata": {},
     "output_type": "display_data"
    }
   ],
   "source": [
    "# step2: bar plot for data \n",
    "\n",
    "# get top 10 most common Category values\n",
    "top_categories = google_play_store_df_cleaned['Category'].value_counts().head(10)\n",
    "\n",
    "# plot bar chart\n",
    "plt.figure(figsize=(10, 6))\n",
    "top_categories.plot(kind='bar', color='orange', edgecolor='black')\n",
    "plt.title('The top 10 most common apps visualization')\n",
    "plt.xlabel('Category')\n",
    "plt.ylabel('Number of apps')\n",
    "plt.xticks(rotation=40)\n",
    "plt.show()"
   ]
  },
  {
   "cell_type": "markdown",
   "id": "6bded3a9",
   "metadata": {},
   "source": [
    "#### 📋 Explain the output:\n",
    "- Family apps are the most popular\n",
    "- Medical and others Category have fewer apps"
   ]
  }
 ],
 "metadata": {
  "kernelspec": {
   "display_name": "Python 3",
   "language": "python",
   "name": "python3"
  },
  "language_info": {
   "codemirror_mode": {
    "name": "ipython",
    "version": 3
   },
   "file_extension": ".py",
   "mimetype": "text/x-python",
   "name": "python",
   "nbconvert_exporter": "python",
   "pygments_lexer": "ipython3",
   "version": "3.12.2"
  }
 },
 "nbformat": 4,
 "nbformat_minor": 5
}
